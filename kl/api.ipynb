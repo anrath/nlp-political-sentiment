{
 "cells": [
  {
   "cell_type": "code",
   "execution_count": 2,
   "metadata": {},
   "outputs": [],
   "source": [
    "import requests\n",
    "import os\n",
    "from dotenv import load_dotenv"
   ]
  },
  {
   "cell_type": "code",
   "execution_count": 6,
   "metadata": {},
   "outputs": [
    {
     "ename": "ValueError",
     "evalue": "Failed to fetch ads for BIDEN FOR PRESIDENT. Status code: 400. \nError: {\"error\":{\"message\":\"Application does not have permission for this action\",\"type\":\"OAuthException\",\"code\":10,\"error_subcode\":2332002,\"is_transient\":false,\"error_user_title\":\"Authorization and login needed\",\"error_user_msg\":\"To access the API, you'll need to follow the steps at facebook.com\\/ads\\/library\\/api.\",\"fbtrace_id\":\"Arcuc5GFj6HIR-5kL4AHtHN\"}}",
     "output_type": "error",
     "traceback": [
      "\u001b[0;31m---------------------------------------------------------------------------\u001b[0m",
      "\u001b[0;31mValueError\u001b[0m                                Traceback (most recent call last)",
      "\u001b[1;32m/home/anrath/projects/work/nlp-political-sentiment/kl/api.ipynb Cell 2\u001b[0m line \u001b[0;36m3\n\u001b[1;32m     <a href='vscode-notebook-cell://wsl%2Bubuntu-20.04/home/anrath/projects/work/nlp-political-sentiment/kl/api.ipynb#W0sdnNjb2RlLXJlbW90ZQ%3D%3D?line=29'>30</a>\u001b[0m         \u001b[39mraise\u001b[39;00m \u001b[39mValueError\u001b[39;00m(\u001b[39mf\u001b[39m\u001b[39m\"\u001b[39m\u001b[39mFailed to fetch ads for \u001b[39m\u001b[39m{\u001b[39;00msearch_term\u001b[39m}\u001b[39;00m\u001b[39m. Status code: \u001b[39m\u001b[39m{\u001b[39;00mresponse\u001b[39m.\u001b[39mstatus_code\u001b[39m}\u001b[39;00m\u001b[39m. \u001b[39m\u001b[39m\\n\u001b[39;00m\u001b[39mError: \u001b[39m\u001b[39m{\u001b[39;00mresponse\u001b[39m.\u001b[39mcontent\u001b[39m.\u001b[39mdecode(\u001b[39m'\u001b[39m\u001b[39mutf-8\u001b[39m\u001b[39m'\u001b[39m)\u001b[39m}\u001b[39;00m\u001b[39m\"\u001b[39m)\n\u001b[1;32m     <a href='vscode-notebook-cell://wsl%2Bubuntu-20.04/home/anrath/projects/work/nlp-political-sentiment/kl/api.ipynb#W0sdnNjb2RlLXJlbW90ZQ%3D%3D?line=31'>32</a>\u001b[0m     \u001b[39mreturn\u001b[39;00m response\u001b[39m.\u001b[39mjson()\u001b[39m.\u001b[39mget(\u001b[39m'\u001b[39m\u001b[39mdata\u001b[39m\u001b[39m'\u001b[39m, [])\n\u001b[0;32m---> <a href='vscode-notebook-cell://wsl%2Bubuntu-20.04/home/anrath/projects/work/nlp-political-sentiment/kl/api.ipynb#W0sdnNjb2RlLXJlbW90ZQ%3D%3D?line=33'>34</a>\u001b[0m fetch_ads(SEARCH_TERMS[\u001b[39m0\u001b[39;49m])\n",
      "\u001b[1;32m/home/anrath/projects/work/nlp-political-sentiment/kl/api.ipynb Cell 2\u001b[0m line \u001b[0;36m3\n\u001b[1;32m     <a href='vscode-notebook-cell://wsl%2Bubuntu-20.04/home/anrath/projects/work/nlp-political-sentiment/kl/api.ipynb#W0sdnNjb2RlLXJlbW90ZQ%3D%3D?line=26'>27</a>\u001b[0m response \u001b[39m=\u001b[39m requests\u001b[39m.\u001b[39mget(BASE_URL, params\u001b[39m=\u001b[39mparams)\n\u001b[1;32m     <a href='vscode-notebook-cell://wsl%2Bubuntu-20.04/home/anrath/projects/work/nlp-political-sentiment/kl/api.ipynb#W0sdnNjb2RlLXJlbW90ZQ%3D%3D?line=28'>29</a>\u001b[0m \u001b[39mif\u001b[39;00m response\u001b[39m.\u001b[39mstatus_code \u001b[39m!=\u001b[39m \u001b[39m200\u001b[39m:\n\u001b[0;32m---> <a href='vscode-notebook-cell://wsl%2Bubuntu-20.04/home/anrath/projects/work/nlp-political-sentiment/kl/api.ipynb#W0sdnNjb2RlLXJlbW90ZQ%3D%3D?line=29'>30</a>\u001b[0m     \u001b[39mraise\u001b[39;00m \u001b[39mValueError\u001b[39;00m(\u001b[39mf\u001b[39m\u001b[39m\"\u001b[39m\u001b[39mFailed to fetch ads for \u001b[39m\u001b[39m{\u001b[39;00msearch_term\u001b[39m}\u001b[39;00m\u001b[39m. Status code: \u001b[39m\u001b[39m{\u001b[39;00mresponse\u001b[39m.\u001b[39mstatus_code\u001b[39m}\u001b[39;00m\u001b[39m. \u001b[39m\u001b[39m\\n\u001b[39;00m\u001b[39mError: \u001b[39m\u001b[39m{\u001b[39;00mresponse\u001b[39m.\u001b[39mcontent\u001b[39m.\u001b[39mdecode(\u001b[39m'\u001b[39m\u001b[39mutf-8\u001b[39m\u001b[39m'\u001b[39m)\u001b[39m}\u001b[39;00m\u001b[39m\"\u001b[39m)\n\u001b[1;32m     <a href='vscode-notebook-cell://wsl%2Bubuntu-20.04/home/anrath/projects/work/nlp-political-sentiment/kl/api.ipynb#W0sdnNjb2RlLXJlbW90ZQ%3D%3D?line=31'>32</a>\u001b[0m \u001b[39mreturn\u001b[39;00m response\u001b[39m.\u001b[39mjson()\u001b[39m.\u001b[39mget(\u001b[39m'\u001b[39m\u001b[39mdata\u001b[39m\u001b[39m'\u001b[39m, [])\n",
      "\u001b[0;31mValueError\u001b[0m: Failed to fetch ads for BIDEN FOR PRESIDENT. Status code: 400. \nError: {\"error\":{\"message\":\"Application does not have permission for this action\",\"type\":\"OAuthException\",\"code\":10,\"error_subcode\":2332002,\"is_transient\":false,\"error_user_title\":\"Authorization and login needed\",\"error_user_msg\":\"To access the API, you'll need to follow the steps at facebook.com\\/ads\\/library\\/api.\",\"fbtrace_id\":\"Arcuc5GFj6HIR-5kL4AHtHN\"}}"
     ]
    }
   ],
   "source": [
    "# Load .env file to access environment variables.\n",
    "load_dotenv()\n",
    "\n",
    "# Global Constants\n",
    "BASE_URL = \"https://graph.facebook.com/v18.0/ads_archive\"\n",
    "ACCESS_TOKEN = os.getenv('META_TOKEN')\n",
    "TIME_RANGE_START = \"2020-01-01\"\n",
    "TIME_RANGE_END = \"2020-11-21\"\n",
    "SEARCH_TERMS = [\n",
    "    \"BIDEN FOR PRESIDENT\",\n",
    "    \"DONALD J. TRUMP FOR PRESIDENT, INC.\"\n",
    "]\n",
    "\n",
    "\n",
    "def fetch_ads(search_term):\n",
    "    \"\"\"Query the Facebook Ads Library for ads based on the provided search term.\"\"\"\n",
    "    params = {\n",
    "        'access_token': ACCESS_TOKEN,\n",
    "        'ad_reached_countries': ['US'],\n",
    "        'ad_active_status': 'ALL',\n",
    "        'ad_delivery_date_min': TIME_RANGE_START,\n",
    "        'ad_delivery_date_max': TIME_RANGE_END,\n",
    "        'search_terms': search_term,\n",
    "        'limit': 100  # Adjust this as needed.\n",
    "    }\n",
    "\n",
    "    response = requests.get(BASE_URL, params=params)\n",
    "\n",
    "    if response.status_code != 200:\n",
    "        raise ValueError(f\"Failed to fetch ads for {search_term}. Status code: {response.status_code}. \\nError: {response.content.decode('utf-8')}\")\n",
    "\n",
    "    return response.json().get('data', [])\n",
    "\n",
    "fetch_ads(SEARCH_TERMS[0])"
   ]
  },
  {
   "cell_type": "code",
   "execution_count": 8,
   "metadata": {},
   "outputs": [
    {
     "ename": "ValueError",
     "evalue": "Failed to fetch ads for BIDEN FOR PRESIDENT. Status code: 400",
     "output_type": "error",
     "traceback": [
      "\u001b[0;31m---------------------------------------------------------------------------\u001b[0m",
      "\u001b[0;31mValueError\u001b[0m                                Traceback (most recent call last)",
      "\u001b[1;32m/home/anrath/projects/work/nlp-political-sentiment/kl/api.ipynb Cell 3\u001b[0m line \u001b[0;36m4\n\u001b[1;32m      <a href='vscode-notebook-cell://wsl%2Bubuntu-20.04/home/anrath/projects/work/nlp-political-sentiment/kl/api.ipynb#W2sdnNjb2RlLXJlbW90ZQ%3D%3D?line=0'>1</a>\u001b[0m all_ads \u001b[39m=\u001b[39m []\n\u001b[1;32m      <a href='vscode-notebook-cell://wsl%2Bubuntu-20.04/home/anrath/projects/work/nlp-political-sentiment/kl/api.ipynb#W2sdnNjb2RlLXJlbW90ZQ%3D%3D?line=2'>3</a>\u001b[0m \u001b[39mfor\u001b[39;00m term \u001b[39min\u001b[39;00m SEARCH_TERMS:\n\u001b[0;32m----> <a href='vscode-notebook-cell://wsl%2Bubuntu-20.04/home/anrath/projects/work/nlp-political-sentiment/kl/api.ipynb#W2sdnNjb2RlLXJlbW90ZQ%3D%3D?line=3'>4</a>\u001b[0m     all_ads\u001b[39m.\u001b[39mextend(fetch_ads(term))\n\u001b[1;32m      <a href='vscode-notebook-cell://wsl%2Bubuntu-20.04/home/anrath/projects/work/nlp-political-sentiment/kl/api.ipynb#W2sdnNjb2RlLXJlbW90ZQ%3D%3D?line=5'>6</a>\u001b[0m \u001b[39m# Processing can be extended here as necessary.\u001b[39;00m\n\u001b[1;32m      <a href='vscode-notebook-cell://wsl%2Bubuntu-20.04/home/anrath/projects/work/nlp-political-sentiment/kl/api.ipynb#W2sdnNjb2RlLXJlbW90ZQ%3D%3D?line=6'>7</a>\u001b[0m \u001b[39mfor\u001b[39;00m ad \u001b[39min\u001b[39;00m all_ads:\n",
      "\u001b[1;32m/home/anrath/projects/work/nlp-political-sentiment/kl/api.ipynb Cell 3\u001b[0m line \u001b[0;36m3\n\u001b[1;32m     <a href='vscode-notebook-cell://wsl%2Bubuntu-20.04/home/anrath/projects/work/nlp-political-sentiment/kl/api.ipynb#W2sdnNjb2RlLXJlbW90ZQ%3D%3D?line=26'>27</a>\u001b[0m response \u001b[39m=\u001b[39m requests\u001b[39m.\u001b[39mget(BASE_URL, params\u001b[39m=\u001b[39mparams)\n\u001b[1;32m     <a href='vscode-notebook-cell://wsl%2Bubuntu-20.04/home/anrath/projects/work/nlp-political-sentiment/kl/api.ipynb#W2sdnNjb2RlLXJlbW90ZQ%3D%3D?line=28'>29</a>\u001b[0m \u001b[39mif\u001b[39;00m response\u001b[39m.\u001b[39mstatus_code \u001b[39m!=\u001b[39m \u001b[39m200\u001b[39m:\n\u001b[0;32m---> <a href='vscode-notebook-cell://wsl%2Bubuntu-20.04/home/anrath/projects/work/nlp-political-sentiment/kl/api.ipynb#W2sdnNjb2RlLXJlbW90ZQ%3D%3D?line=29'>30</a>\u001b[0m     \u001b[39mraise\u001b[39;00m \u001b[39mValueError\u001b[39;00m(\u001b[39mf\u001b[39m\u001b[39m\"\u001b[39m\u001b[39mFailed to fetch ads for \u001b[39m\u001b[39m{\u001b[39;00msearch_term\u001b[39m}\u001b[39;00m\u001b[39m. Status code: \u001b[39m\u001b[39m{\u001b[39;00mresponse\u001b[39m.\u001b[39mstatus_code\u001b[39m}\u001b[39;00m\u001b[39m\"\u001b[39m)\n\u001b[1;32m     <a href='vscode-notebook-cell://wsl%2Bubuntu-20.04/home/anrath/projects/work/nlp-political-sentiment/kl/api.ipynb#W2sdnNjb2RlLXJlbW90ZQ%3D%3D?line=31'>32</a>\u001b[0m \u001b[39mreturn\u001b[39;00m response\u001b[39m.\u001b[39mjson()\u001b[39m.\u001b[39mget(\u001b[39m'\u001b[39m\u001b[39mdata\u001b[39m\u001b[39m'\u001b[39m, [])\n",
      "\u001b[0;31mValueError\u001b[0m: Failed to fetch ads for BIDEN FOR PRESIDENT. Status code: 400"
     ]
    }
   ],
   "source": [
    "all_ads = []\n",
    "    \n",
    "for term in SEARCH_TERMS:\n",
    "    all_ads.extend(fetch_ads(term))\n",
    "\n",
    "# Processing can be extended here as necessary.\n",
    "for ad in all_ads:\n",
    "    print(ad)"
   ]
  }
 ],
 "metadata": {
  "kernelspec": {
   "display_name": "fastchat",
   "language": "python",
   "name": "python3"
  },
  "language_info": {
   "codemirror_mode": {
    "name": "ipython",
    "version": 3
   },
   "file_extension": ".py",
   "mimetype": "text/x-python",
   "name": "python",
   "nbconvert_exporter": "python",
   "pygments_lexer": "ipython3",
   "version": "3.10.11"
  },
  "orig_nbformat": 4
 },
 "nbformat": 4,
 "nbformat_minor": 2
}
