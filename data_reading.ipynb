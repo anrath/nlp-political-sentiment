{
 "cells": [
  {
   "cell_type": "code",
   "execution_count": 16,
   "metadata": {},
   "outputs": [],
   "source": [
    "import pandas as pd"
   ]
  },
  {
   "cell_type": "code",
   "execution_count": 17,
   "metadata": {},
   "outputs": [
    {
     "data": {
      "text/plain": [
       "Index(['id', 'page_id', 'page_name', 'ad_snapshot_url', 'ad_creative_bodies',\n",
       "       'ad_creative_link_captions', 'languages', 'ad_delivery_start_time',\n",
       "       'ad_delivery_stop_time', 'ad_creative_link_titles',\n",
       "       'demographic_distribution', 'delivery_by_region',\n",
       "       'ad_creative_link_descriptions', 'bylines'],\n",
       "      dtype='object')"
      ]
     },
     "execution_count": 17,
     "metadata": {},
     "output_type": "execute_result"
    }
   ],
   "source": [
    "df1 = pd.read_csv('data/ads_all.csv')\n",
    "df2 = pd.read_csv('data/new_ads_all.csv')\n",
    "df = pd.concat([df1, df2], ignore_index=True)\n",
    "df = df.drop_duplicates(subset=['ad_creative_bodies'])\n",
    "df.columns"
   ]
  },
  {
   "cell_type": "code",
   "execution_count": 18,
   "metadata": {},
   "outputs": [
    {
     "data": {
      "text/plain": [
       "languages\n",
       "['en']          630\n",
       "['es']           12\n",
       "['en', 'es']      2\n",
       "Name: count, dtype: int64"
      ]
     },
     "execution_count": 18,
     "metadata": {},
     "output_type": "execute_result"
    }
   ],
   "source": [
    "df.value_counts('languages')"
   ]
  },
  {
   "cell_type": "markdown",
   "metadata": {},
   "source": [
    "# debate"
   ]
  },
  {
   "cell_type": "code",
   "execution_count": 19,
   "metadata": {},
   "outputs": [],
   "source": [
    "df_debate = pd.read_excel('kl/2020_pres_debate_translated.xlsx')"
   ]
  },
  {
   "cell_type": "code",
   "execution_count": 20,
   "metadata": {},
   "outputs": [
    {
     "data": {
      "text/html": [
       "<div>\n",
       "<style scoped>\n",
       "    .dataframe tbody tr th:only-of-type {\n",
       "        vertical-align: middle;\n",
       "    }\n",
       "\n",
       "    .dataframe tbody tr th {\n",
       "        vertical-align: top;\n",
       "    }\n",
       "\n",
       "    .dataframe thead th {\n",
       "        text-align: right;\n",
       "    }\n",
       "</style>\n",
       "<table border=\"1\" class=\"dataframe\">\n",
       "  <thead>\n",
       "    <tr style=\"text-align: right;\">\n",
       "      <th></th>\n",
       "      <th>Speaker</th>\n",
       "      <th>Verbatim</th>\n",
       "      <th>Spanish Translation</th>\n",
       "    </tr>\n",
       "  </thead>\n",
       "  <tbody>\n",
       "    <tr>\n",
       "      <th>0</th>\n",
       "      <td>CHRIS WALLACE</td>\n",
       "      <td>Good evening, from the Health Education Campus...</td>\n",
       "      <td>Buenas noches, desde el campus de educación sa...</td>\n",
       "    </tr>\n",
       "    <tr>\n",
       "      <th>1</th>\n",
       "      <td>JOE BIDEN</td>\n",
       "      <td>How you doing, man?</td>\n",
       "      <td>¿Cómo estás, hombre?</td>\n",
       "    </tr>\n",
       "    <tr>\n",
       "      <th>2</th>\n",
       "      <td>DONALD TRUMP</td>\n",
       "      <td>How are you?</td>\n",
       "      <td>¿Cómo estás?</td>\n",
       "    </tr>\n",
       "    <tr>\n",
       "      <th>3</th>\n",
       "      <td>JOE BIDEN</td>\n",
       "      <td>Doing well.</td>\n",
       "      <td>Me va bien.</td>\n",
       "    </tr>\n",
       "    <tr>\n",
       "      <th>4</th>\n",
       "      <td>CHRIS WALLACE</td>\n",
       "      <td>Gentlemen, a lot of people have been waiting f...</td>\n",
       "      <td>Caballeros, muchos han estado esperando esta n...</td>\n",
       "    </tr>\n",
       "    <tr>\n",
       "      <th>...</th>\n",
       "      <td>...</td>\n",
       "      <td>...</td>\n",
       "      <td>...</td>\n",
       "    </tr>\n",
       "    <tr>\n",
       "      <th>420</th>\n",
       "      <td>JOE BIDEN</td>\n",
       "      <td>It matters –</td>\n",
       "      <td>Importa –</td>\n",
       "    </tr>\n",
       "    <tr>\n",
       "      <th>421</th>\n",
       "      <td>DONALD TRUMP</td>\n",
       "      <td>They've also said the opposite.</td>\n",
       "      <td>También han dicho lo opuesto.</td>\n",
       "    </tr>\n",
       "    <tr>\n",
       "      <th>422</th>\n",
       "      <td>JOE BIDEN</td>\n",
       "      <td>No, no serious person said the opposite.  No s...</td>\n",
       "      <td>Ninguna, ninguna persona seria ha dicho lo opu...</td>\n",
       "    </tr>\n",
       "    <tr>\n",
       "      <th>423</th>\n",
       "      <td>DONALD TRUMP</td>\n",
       "      <td>They've also said –</td>\n",
       "      <td>También han dicho –</td>\n",
       "    </tr>\n",
       "    <tr>\n",
       "      <th>424</th>\n",
       "      <td>CHRIS WALLACE</td>\n",
       "      <td>All right, I want to ask you –</td>\n",
       "      <td>Muy bien, le quiero preguntar –</td>\n",
       "    </tr>\n",
       "  </tbody>\n",
       "</table>\n",
       "<p>425 rows × 3 columns</p>\n",
       "</div>"
      ],
      "text/plain": [
       "           Speaker                                            Verbatim  \\\n",
       "0    CHRIS WALLACE   Good evening, from the Health Education Campus...   \n",
       "1         JOE BIDEN                                How you doing, man?   \n",
       "2      DONALD TRUMP                                       How are you?   \n",
       "3         JOE BIDEN                                        Doing well.   \n",
       "4     CHRIS WALLACE  Gentlemen, a lot of people have been waiting f...   \n",
       "..              ...                                                ...   \n",
       "420       JOE BIDEN                                       It matters –   \n",
       "421    DONALD TRUMP                    They've also said the opposite.   \n",
       "422       JOE BIDEN  No, no serious person said the opposite.  No s...   \n",
       "423    DONALD TRUMP                                They've also said –   \n",
       "424   CHRIS WALLACE                     All right, I want to ask you –   \n",
       "\n",
       "                                  Spanish Translation   \n",
       "0    Buenas noches, desde el campus de educación sa...  \n",
       "1                                ¿Cómo estás, hombre?   \n",
       "2                                        ¿Cómo estás?   \n",
       "3                                         Me va bien.   \n",
       "4    Caballeros, muchos han estado esperando esta n...  \n",
       "..                                                 ...  \n",
       "420                                          Importa –  \n",
       "421                     También han dicho lo opuesto.   \n",
       "422  Ninguna, ninguna persona seria ha dicho lo opu...  \n",
       "423                                También han dicho –  \n",
       "424                    Muy bien, le quiero preguntar –  \n",
       "\n",
       "[425 rows x 3 columns]"
      ]
     },
     "execution_count": 20,
     "metadata": {},
     "output_type": "execute_result"
    }
   ],
   "source": [
    "df_debate"
   ]
  }
 ],
 "metadata": {
  "kernelspec": {
   "display_name": "torch_base",
   "language": "python",
   "name": "python3"
  },
  "language_info": {
   "codemirror_mode": {
    "name": "ipython",
    "version": 3
   },
   "file_extension": ".py",
   "mimetype": "text/x-python",
   "name": "python",
   "nbconvert_exporter": "python",
   "pygments_lexer": "ipython3",
   "version": "3.10.13"
  }
 },
 "nbformat": 4,
 "nbformat_minor": 2
}
